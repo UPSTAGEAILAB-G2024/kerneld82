{
 "cells": [
  {
   "cell_type": "code",
   "execution_count": 12,
   "metadata": {},
   "outputs": [
    {
     "data": {
      "text/html": [
       "<div>\n",
       "<style scoped>\n",
       "    .dataframe tbody tr th:only-of-type {\n",
       "        vertical-align: middle;\n",
       "    }\n",
       "\n",
       "    .dataframe tbody tr th {\n",
       "        vertical-align: top;\n",
       "    }\n",
       "\n",
       "    .dataframe thead th {\n",
       "        text-align: right;\n",
       "    }\n",
       "</style>\n",
       "<table border=\"1\" class=\"dataframe\">\n",
       "  <thead>\n",
       "    <tr style=\"text-align: right;\">\n",
       "      <th></th>\n",
       "      <th>순계</th>\n",
       "      <th>누계</th>\n",
       "      <th>순계.1</th>\n",
       "      <th>누계.1</th>\n",
       "      <th>순계.2</th>\n",
       "      <th>누계.2</th>\n",
       "      <th>순계.3</th>\n",
       "      <th>누계.3</th>\n",
       "      <th>순계.4</th>\n",
       "      <th>누계.4</th>\n",
       "      <th>...</th>\n",
       "      <th>순계.295</th>\n",
       "      <th>누계.295</th>\n",
       "      <th>순계.296</th>\n",
       "      <th>누계.296</th>\n",
       "      <th>순계.297</th>\n",
       "      <th>누계.297</th>\n",
       "      <th>순계.298</th>\n",
       "      <th>누계.298</th>\n",
       "      <th>순계.299</th>\n",
       "      <th>누계.299</th>\n",
       "    </tr>\n",
       "  </thead>\n",
       "  <tbody>\n",
       "    <tr>\n",
       "      <th>0</th>\n",
       "      <td>404</td>\n",
       "      <td>404</td>\n",
       "      <td>404</td>\n",
       "      <td>404</td>\n",
       "      <td>0</td>\n",
       "      <td>0</td>\n",
       "      <td>0</td>\n",
       "      <td>0</td>\n",
       "      <td>914</td>\n",
       "      <td>1318</td>\n",
       "      <td>...</td>\n",
       "      <td>589</td>\n",
       "      <td>3539</td>\n",
       "      <td>477</td>\n",
       "      <td>4741</td>\n",
       "      <td>45</td>\n",
       "      <td>575</td>\n",
       "      <td>432</td>\n",
       "      <td>627</td>\n",
       "      <td>0</td>\n",
       "      <td>3539</td>\n",
       "    </tr>\n",
       "  </tbody>\n",
       "</table>\n",
       "<p>1 rows × 600 columns</p>\n",
       "</div>"
      ],
      "text/plain": [
       "    순계   누계  순계.1  누계.1  순계.2  누계.2  순계.3  누계.3  순계.4  누계.4  ...  순계.295  \\\n",
       "0  404  404   404   404     0     0     0     0   914  1318  ...     589   \n",
       "\n",
       "   누계.295  순계.296  누계.296  순계.297  누계.297  순계.298  누계.298  순계.299  누계.299  \n",
       "0    3539     477    4741      45     575     432     627       0    3539  \n",
       "\n",
       "[1 rows x 600 columns]"
      ]
     },
     "execution_count": 12,
     "metadata": {},
     "output_type": "execute_result"
    }
   ],
   "source": [
    "import pandas as pd\n",
    "df = pd.read_excel('주택건설_분양실적_공동주택__20240502121532.xlsx')\n",
    "df"
   ]
  },
  {
   "cell_type": "code",
   "execution_count": 13,
   "metadata": {},
   "outputs": [
    {
     "data": {
      "text/plain": [
       "600"
      ]
     },
     "execution_count": 13,
     "metadata": {},
     "output_type": "execute_result"
    }
   ],
   "source": [
    "colLength = len(df.columns)\n",
    "colLength"
   ]
  },
  {
   "cell_type": "code",
   "execution_count": 16,
   "metadata": {},
   "outputs": [
    {
     "name": "stdout",
     "output_type": "stream",
     "text": [
      "404\t0\t0\t404\n",
      "681\t55\t178\t914\n",
      "2519\t688\t1604\t4811\n",
      "70\t145\t0\t215\n",
      "503\t34\t118\t655\n",
      "2685\t694\t2388\t5767\n",
      "844\t395\t572\t1811\n",
      "437\t141\t829\t1407\n",
      "710\t359\t220\t1289\n",
      "442\t166\t973\t1581\n",
      "614\t0\t921\t1535\n",
      "864\t304\t619\t1787\n",
      "843\t0\t15\t858\n",
      "1112\t213\t1546\t2871\n",
      "1364\t168\t603\t2135\n",
      "1932\t44\t612\t2588\n",
      "950\t351\t1041\t2342\n",
      "447\t139\t1133\t1719\n",
      "2132\t64\t405\t2601\n",
      "2002\t0\t1705\t3707\n",
      "660\t114\t1157\t1931\n",
      "612\t97\t860\t1569\n",
      "915\t75\t742\t1732\n",
      "2460\t370\t3367\t6197\n",
      "40\t0\t0\t40\n",
      "997\t0\t0\t997\n",
      "207\t0\t213\t420\n",
      "847\t98\t419\t1364\n",
      "1240\t338\t1785\t3363\n",
      "1870\t1225\t394\t3489\n",
      "5107\t1325\t9157\t15589\n",
      "430\t0\t233\t663\n",
      "165\t0\t0\t165\n",
      "237\t0\t162\t399\n",
      "1830\t1216\t0\t3046\n",
      "1051\t1216\t0\t2267\n",
      "0\t173\t0\t173\n",
      "1091\t0\t114\t1205\n",
      "34\t0\t48\t82\n",
      "194\t0\t0\t194\n",
      "648\t0\t4\t652\n",
      "224\t322\t2766\t3312\n",
      "199\t0\t0\t199\n",
      "201\t0\t0\t201\n",
      "1921\t168\t0\t2089\n",
      "77\t0\t0\t77\n",
      "114\t0\t85\t199\n",
      "169\t15\t0\t184\n",
      "467\t157\t777\t1401\n",
      "549\t118\t50\t717\n",
      "459\t0\t40\t499\n",
      "572\t99\t7\t678\n",
      "241\t0\t0\t241\n",
      "183\t0\t28\t211\n",
      "190\t0\t0\t190\n",
      "231\t0\t371\t602\n",
      "41\t0\t0\t41\n",
      "0\t0\t0\t0\n",
      "6830\t1750\t7682\t16262\n",
      "272\t259\t2191\t2722\n",
      "80\t16\t0\t96\n",
      "775\t236\t584\t1595\n",
      "700\t433\t673\t1806\n",
      "264\t34\t0\t298\n",
      "327\t46\t334\t707\n",
      "389\t232\t745\t1366\n",
      "753\t440\t20\t1213\n",
      "2111\t680\t1884\t4675\n",
      "373\t258\t955\t1586\n",
      "2105\t1946\t2211\t6262\n",
      "531\t121\t1013\t1665\n",
      "996\t697\t568\t2261\n",
      "290\t195\t2950\t3435\n",
      "240\t0\t589\t829\n",
      "45\t432\t0\t477\n"
     ]
    }
   ],
   "source": [
    "for i in range(10000000):\n",
    "    col1 = 8 * i + 2\n",
    "    col2 = 8 * i + 4\n",
    "    col3 = 8 * i + 6\n",
    "    col4 = 8 * i + 0\n",
    "\n",
    "    if col1 >= colLength or col2 >= colLength or col3 >= colLength:\n",
    "        break\n",
    "\n",
    "    print(f\"{df.iloc[0, col1]}\\t{df.iloc[0, col2]}\\t{df.iloc[0, col3]}\\t{df.iloc[0, col4]}\")\n"
   ]
  }
 ],
 "metadata": {
  "kernelspec": {
   "display_name": ".venv",
   "language": "python",
   "name": "python3"
  },
  "language_info": {
   "codemirror_mode": {
    "name": "ipython",
    "version": 3
   },
   "file_extension": ".py",
   "mimetype": "text/x-python",
   "name": "python",
   "nbconvert_exporter": "python",
   "pygments_lexer": "ipython3",
   "version": "3.12.2"
  }
 },
 "nbformat": 4,
 "nbformat_minor": 2
}
