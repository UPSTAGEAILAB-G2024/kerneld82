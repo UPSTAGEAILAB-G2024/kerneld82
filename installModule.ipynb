{
 "cells": [
  {
   "cell_type": "code",
   "execution_count": 3,
   "metadata": {},
   "outputs": [
    {
     "name": "stdout",
     "output_type": "stream",
     "text": [
      "Collecting pandas==1.5.3\n",
      "  Using cached pandas-1.5.3-cp312-cp312-win_amd64.whl\n",
      "Requirement already satisfied: python-dateutil>=2.8.1 in d:\\ailabproject\\kerneld82\\.venv\\lib\\site-packages (from pandas==1.5.3) (2.9.0.post0)\n",
      "Collecting pytz>=2020.1 (from pandas==1.5.3)\n",
      "  Using cached pytz-2024.1-py2.py3-none-any.whl.metadata (22 kB)\n",
      "Collecting numpy>=1.21.0 (from pandas==1.5.3)\n",
      "  Using cached numpy-1.26.4-cp312-cp312-win_amd64.whl.metadata (61 kB)\n",
      "Requirement already satisfied: six>=1.5 in d:\\ailabproject\\kerneld82\\.venv\\lib\\site-packages (from python-dateutil>=2.8.1->pandas==1.5.3) (1.16.0)\n",
      "Using cached numpy-1.26.4-cp312-cp312-win_amd64.whl (15.5 MB)\n",
      "Using cached pytz-2024.1-py2.py3-none-any.whl (505 kB)\n",
      "Installing collected packages: pytz, numpy, pandas\n",
      "Successfully installed numpy-1.26.4 pandas-1.5.3 pytz-2024.1\n",
      "Note: you may need to restart the kernel to use updated packages.\n"
     ]
    }
   ],
   "source": [
    "%pip install pandas==1.5.3"
   ]
  },
  {
   "cell_type": "code",
   "execution_count": 4,
   "metadata": {},
   "outputs": [
    {
     "name": "stdout",
     "output_type": "stream",
     "text": [
      "Collecting seaborn==0.13.2\n",
      "  Using cached seaborn-0.13.2-py3-none-any.whl.metadata (5.4 kB)\n",
      "Requirement already satisfied: numpy!=1.24.0,>=1.20 in d:\\ailabproject\\kerneld82\\.venv\\lib\\site-packages (from seaborn==0.13.2) (1.26.4)\n",
      "Requirement already satisfied: pandas>=1.2 in d:\\ailabproject\\kerneld82\\.venv\\lib\\site-packages (from seaborn==0.13.2) (1.5.3)\n",
      "Collecting matplotlib!=3.6.1,>=3.4 (from seaborn==0.13.2)\n",
      "  Using cached matplotlib-3.8.4-cp312-cp312-win_amd64.whl.metadata (5.9 kB)\n",
      "Collecting contourpy>=1.0.1 (from matplotlib!=3.6.1,>=3.4->seaborn==0.13.2)\n",
      "  Using cached contourpy-1.2.1-cp312-cp312-win_amd64.whl.metadata (5.8 kB)\n",
      "Collecting cycler>=0.10 (from matplotlib!=3.6.1,>=3.4->seaborn==0.13.2)\n",
      "  Using cached cycler-0.12.1-py3-none-any.whl.metadata (3.8 kB)\n",
      "Collecting fonttools>=4.22.0 (from matplotlib!=3.6.1,>=3.4->seaborn==0.13.2)\n",
      "  Using cached fonttools-4.51.0-cp312-cp312-win_amd64.whl.metadata (162 kB)\n",
      "Collecting kiwisolver>=1.3.1 (from matplotlib!=3.6.1,>=3.4->seaborn==0.13.2)\n",
      "  Using cached kiwisolver-1.4.5-cp312-cp312-win_amd64.whl.metadata (6.5 kB)\n",
      "Requirement already satisfied: packaging>=20.0 in d:\\ailabproject\\kerneld82\\.venv\\lib\\site-packages (from matplotlib!=3.6.1,>=3.4->seaborn==0.13.2) (24.0)\n",
      "Collecting pillow>=8 (from matplotlib!=3.6.1,>=3.4->seaborn==0.13.2)\n",
      "  Using cached pillow-10.3.0-cp312-cp312-win_amd64.whl.metadata (9.4 kB)\n",
      "Collecting pyparsing>=2.3.1 (from matplotlib!=3.6.1,>=3.4->seaborn==0.13.2)\n",
      "  Using cached pyparsing-3.1.2-py3-none-any.whl.metadata (5.1 kB)\n",
      "Requirement already satisfied: python-dateutil>=2.7 in d:\\ailabproject\\kerneld82\\.venv\\lib\\site-packages (from matplotlib!=3.6.1,>=3.4->seaborn==0.13.2) (2.9.0.post0)\n",
      "Requirement already satisfied: pytz>=2020.1 in d:\\ailabproject\\kerneld82\\.venv\\lib\\site-packages (from pandas>=1.2->seaborn==0.13.2) (2024.1)\n",
      "Requirement already satisfied: six>=1.5 in d:\\ailabproject\\kerneld82\\.venv\\lib\\site-packages (from python-dateutil>=2.7->matplotlib!=3.6.1,>=3.4->seaborn==0.13.2) (1.16.0)\n",
      "Using cached seaborn-0.13.2-py3-none-any.whl (294 kB)\n",
      "Using cached matplotlib-3.8.4-cp312-cp312-win_amd64.whl (7.7 MB)\n",
      "Using cached contourpy-1.2.1-cp312-cp312-win_amd64.whl (189 kB)\n",
      "Using cached cycler-0.12.1-py3-none-any.whl (8.3 kB)\n",
      "Using cached fonttools-4.51.0-cp312-cp312-win_amd64.whl (2.2 MB)\n",
      "Using cached kiwisolver-1.4.5-cp312-cp312-win_amd64.whl (56 kB)\n",
      "Using cached pillow-10.3.0-cp312-cp312-win_amd64.whl (2.5 MB)\n",
      "Using cached pyparsing-3.1.2-py3-none-any.whl (103 kB)\n",
      "Installing collected packages: pyparsing, pillow, kiwisolver, fonttools, cycler, contourpy, matplotlib, seaborn\n",
      "Successfully installed contourpy-1.2.1 cycler-0.12.1 fonttools-4.51.0 kiwisolver-1.4.5 matplotlib-3.8.4 pillow-10.3.0 pyparsing-3.1.2 seaborn-0.13.2\n",
      "Note: you may need to restart the kernel to use updated packages.\n"
     ]
    }
   ],
   "source": [
    "%pip install seaborn==0.13.2"
   ]
  },
  {
   "cell_type": "code",
   "execution_count": 5,
   "metadata": {},
   "outputs": [
    {
     "name": "stdout",
     "output_type": "stream",
     "text": [
      "Collecting openpyxl\n",
      "  Using cached openpyxl-3.1.2-py2.py3-none-any.whl.metadata (2.5 kB)\n",
      "Collecting et-xmlfile (from openpyxl)\n",
      "  Using cached et_xmlfile-1.1.0-py3-none-any.whl.metadata (1.8 kB)\n",
      "Using cached openpyxl-3.1.2-py2.py3-none-any.whl (249 kB)\n",
      "Using cached et_xmlfile-1.1.0-py3-none-any.whl (4.7 kB)\n",
      "Installing collected packages: et-xmlfile, openpyxl\n",
      "Successfully installed et-xmlfile-1.1.0 openpyxl-3.1.2\n",
      "Note: you may need to restart the kernel to use updated packages.\n"
     ]
    }
   ],
   "source": [
    "%pip install openpyxl"
   ]
  },
  {
   "cell_type": "code",
   "execution_count": 1,
   "metadata": {},
   "outputs": [
    {
     "name": "stdout",
     "output_type": "stream",
     "text": [
      "Collecting selenium\n",
      "  Downloading selenium-4.20.0-py3-none-any.whl.metadata (6.9 kB)\n",
      "Collecting urllib3<3,>=1.26 (from urllib3[socks]<3,>=1.26->selenium)\n",
      "  Using cached urllib3-2.2.1-py3-none-any.whl.metadata (6.4 kB)\n",
      "Collecting trio~=0.17 (from selenium)\n",
      "  Using cached trio-0.25.0-py3-none-any.whl.metadata (8.7 kB)\n",
      "Collecting trio-websocket~=0.9 (from selenium)\n",
      "  Using cached trio_websocket-0.11.1-py3-none-any.whl.metadata (4.7 kB)\n",
      "Collecting certifi>=2021.10.8 (from selenium)\n",
      "  Using cached certifi-2024.2.2-py3-none-any.whl.metadata (2.2 kB)\n",
      "Collecting typing_extensions>=4.9.0 (from selenium)\n",
      "  Using cached typing_extensions-4.11.0-py3-none-any.whl.metadata (3.0 kB)\n",
      "Collecting attrs>=23.2.0 (from trio~=0.17->selenium)\n",
      "  Using cached attrs-23.2.0-py3-none-any.whl.metadata (9.5 kB)\n",
      "Collecting sortedcontainers (from trio~=0.17->selenium)\n",
      "  Using cached sortedcontainers-2.4.0-py2.py3-none-any.whl.metadata (10 kB)\n",
      "Collecting idna (from trio~=0.17->selenium)\n",
      "  Using cached idna-3.7-py3-none-any.whl.metadata (9.9 kB)\n",
      "Collecting outcome (from trio~=0.17->selenium)\n",
      "  Using cached outcome-1.3.0.post0-py2.py3-none-any.whl.metadata (2.6 kB)\n",
      "Collecting sniffio>=1.3.0 (from trio~=0.17->selenium)\n",
      "  Using cached sniffio-1.3.1-py3-none-any.whl.metadata (3.9 kB)\n",
      "Collecting cffi>=1.14 (from trio~=0.17->selenium)\n",
      "  Using cached cffi-1.16.0-cp312-cp312-win_amd64.whl.metadata (1.5 kB)\n",
      "Collecting wsproto>=0.14 (from trio-websocket~=0.9->selenium)\n",
      "  Using cached wsproto-1.2.0-py3-none-any.whl.metadata (5.6 kB)\n",
      "Collecting pysocks!=1.5.7,<2.0,>=1.5.6 (from urllib3[socks]<3,>=1.26->selenium)\n",
      "  Using cached PySocks-1.7.1-py3-none-any.whl.metadata (13 kB)\n",
      "Collecting pycparser (from cffi>=1.14->trio~=0.17->selenium)\n",
      "  Using cached pycparser-2.22-py3-none-any.whl.metadata (943 bytes)\n",
      "Collecting h11<1,>=0.9.0 (from wsproto>=0.14->trio-websocket~=0.9->selenium)\n",
      "  Using cached h11-0.14.0-py3-none-any.whl.metadata (8.2 kB)\n",
      "Downloading selenium-4.20.0-py3-none-any.whl (9.5 MB)\n",
      "   ---------------------------------------- 0.0/9.5 MB ? eta -:--:--\n",
      "   ---------------------------------------- 0.0/9.5 MB ? eta -:--:--\n",
      "    --------------------------------------- 0.2/9.5 MB 3.0 MB/s eta 0:00:04\n",
      "   --- ------------------------------------ 0.7/9.5 MB 6.7 MB/s eta 0:00:02\n",
      "   ----- ---------------------------------- 1.3/9.5 MB 8.2 MB/s eta 0:00:02\n",
      "   ------- -------------------------------- 1.8/9.5 MB 9.0 MB/s eta 0:00:01\n",
      "   ---------- ----------------------------- 2.4/9.5 MB 9.5 MB/s eta 0:00:01\n",
      "   ------------ --------------------------- 2.9/9.5 MB 9.9 MB/s eta 0:00:01\n",
      "   -------------- ------------------------- 3.5/9.5 MB 10.2 MB/s eta 0:00:01\n",
      "   ---------------- ----------------------- 4.0/9.5 MB 10.3 MB/s eta 0:00:01\n",
      "   ------------------- -------------------- 4.6/9.5 MB 10.5 MB/s eta 0:00:01\n",
      "   --------------------- ------------------ 5.1/9.5 MB 10.6 MB/s eta 0:00:01\n",
      "   ----------------------- ---------------- 5.7/9.5 MB 10.7 MB/s eta 0:00:01\n",
      "   -------------------------- ------------- 6.2/9.5 MB 10.7 MB/s eta 0:00:01\n",
      "   ---------------------------- ----------- 6.8/9.5 MB 10.8 MB/s eta 0:00:01\n",
      "   ------------------------------ --------- 7.3/9.5 MB 10.9 MB/s eta 0:00:01\n",
      "   -------------------------------- ------- 7.8/9.5 MB 10.9 MB/s eta 0:00:01\n",
      "   ----------------------------------- ---- 8.4/9.5 MB 10.9 MB/s eta 0:00:01\n",
      "   ------------------------------------- -- 8.9/9.5 MB 11.2 MB/s eta 0:00:01\n",
      "   ---------------------------------------  9.5/9.5 MB 11.2 MB/s eta 0:00:01\n",
      "   ---------------------------------------- 9.5/9.5 MB 10.7 MB/s eta 0:00:00\n",
      "Using cached certifi-2024.2.2-py3-none-any.whl (163 kB)\n",
      "Using cached trio-0.25.0-py3-none-any.whl (467 kB)\n",
      "Using cached trio_websocket-0.11.1-py3-none-any.whl (17 kB)\n",
      "Using cached typing_extensions-4.11.0-py3-none-any.whl (34 kB)\n",
      "Using cached urllib3-2.2.1-py3-none-any.whl (121 kB)\n",
      "Using cached attrs-23.2.0-py3-none-any.whl (60 kB)\n",
      "Using cached cffi-1.16.0-cp312-cp312-win_amd64.whl (181 kB)\n",
      "Using cached PySocks-1.7.1-py3-none-any.whl (16 kB)\n",
      "Using cached sniffio-1.3.1-py3-none-any.whl (10 kB)\n",
      "Using cached wsproto-1.2.0-py3-none-any.whl (24 kB)\n",
      "Using cached idna-3.7-py3-none-any.whl (66 kB)\n",
      "Using cached outcome-1.3.0.post0-py2.py3-none-any.whl (10 kB)\n",
      "Using cached sortedcontainers-2.4.0-py2.py3-none-any.whl (29 kB)\n",
      "Using cached h11-0.14.0-py3-none-any.whl (58 kB)\n",
      "Using cached pycparser-2.22-py3-none-any.whl (117 kB)\n",
      "Installing collected packages: sortedcontainers, urllib3, typing_extensions, sniffio, pysocks, pycparser, idna, h11, certifi, attrs, wsproto, outcome, cffi, trio, trio-websocket, selenium\n",
      "Successfully installed attrs-23.2.0 certifi-2024.2.2 cffi-1.16.0 h11-0.14.0 idna-3.7 outcome-1.3.0.post0 pycparser-2.22 pysocks-1.7.1 selenium-4.20.0 sniffio-1.3.1 sortedcontainers-2.4.0 trio-0.25.0 trio-websocket-0.11.1 typing_extensions-4.11.0 urllib3-2.2.1 wsproto-1.2.0\n",
      "Note: you may need to restart the kernel to use updated packages.\n"
     ]
    }
   ],
   "source": [
    "%pip install selenium"
   ]
  },
  {
   "cell_type": "code",
   "execution_count": 2,
   "metadata": {},
   "outputs": [
    {
     "name": "stdout",
     "output_type": "stream",
     "text": [
      "Collecting webdriver-manager\n",
      "  Using cached webdriver_manager-4.0.1-py2.py3-none-any.whl.metadata (12 kB)\n",
      "Collecting requests (from webdriver-manager)\n",
      "  Using cached requests-2.31.0-py3-none-any.whl.metadata (4.6 kB)\n",
      "Collecting python-dotenv (from webdriver-manager)\n",
      "  Using cached python_dotenv-1.0.1-py3-none-any.whl.metadata (23 kB)\n",
      "Requirement already satisfied: packaging in d:\\ailabproject\\kerneld82\\.venv\\lib\\site-packages (from webdriver-manager) (24.0)\n",
      "Collecting charset-normalizer<4,>=2 (from requests->webdriver-manager)\n",
      "  Using cached charset_normalizer-3.3.2-cp312-cp312-win_amd64.whl.metadata (34 kB)\n",
      "Requirement already satisfied: idna<4,>=2.5 in d:\\ailabproject\\kerneld82\\.venv\\lib\\site-packages (from requests->webdriver-manager) (3.7)\n",
      "Requirement already satisfied: urllib3<3,>=1.21.1 in d:\\ailabproject\\kerneld82\\.venv\\lib\\site-packages (from requests->webdriver-manager) (2.2.1)\n",
      "Requirement already satisfied: certifi>=2017.4.17 in d:\\ailabproject\\kerneld82\\.venv\\lib\\site-packages (from requests->webdriver-manager) (2024.2.2)\n",
      "Using cached webdriver_manager-4.0.1-py2.py3-none-any.whl (27 kB)\n",
      "Using cached python_dotenv-1.0.1-py3-none-any.whl (19 kB)\n",
      "Using cached requests-2.31.0-py3-none-any.whl (62 kB)\n",
      "Using cached charset_normalizer-3.3.2-cp312-cp312-win_amd64.whl (100 kB)\n",
      "Installing collected packages: python-dotenv, charset-normalizer, requests, webdriver-manager\n",
      "Successfully installed charset-normalizer-3.3.2 python-dotenv-1.0.1 requests-2.31.0 webdriver-manager-4.0.1\n",
      "Note: you may need to restart the kernel to use updated packages.\n"
     ]
    }
   ],
   "source": [
    "%pip install webdriver-manager"
   ]
  },
  {
   "cell_type": "code",
   "execution_count": null,
   "metadata": {},
   "outputs": [],
   "source": [
    "%pip install scikit-learn"
   ]
  },
  {
   "cell_type": "code",
   "execution_count": 1,
   "metadata": {},
   "outputs": [
    {
     "name": "stdout",
     "output_type": "stream",
     "text": [
      "Collecting dash\n",
      "  Downloading dash-2.17.0-py3-none-any.whl.metadata (10 kB)\n",
      "Collecting Flask<3.1,>=1.0.4 (from dash)\n",
      "  Downloading flask-3.0.3-py3-none-any.whl.metadata (3.2 kB)\n",
      "Collecting Werkzeug<3.1 (from dash)\n",
      "  Downloading werkzeug-3.0.3-py3-none-any.whl.metadata (3.7 kB)\n",
      "Collecting plotly>=5.0.0 (from dash)\n",
      "  Downloading plotly-5.22.0-py3-none-any.whl.metadata (7.1 kB)\n",
      "Collecting dash-html-components==2.0.0 (from dash)\n",
      "  Downloading dash_html_components-2.0.0-py3-none-any.whl.metadata (3.8 kB)\n",
      "Collecting dash-core-components==2.0.0 (from dash)\n",
      "  Downloading dash_core_components-2.0.0-py3-none-any.whl.metadata (2.9 kB)\n",
      "Collecting dash-table==5.0.0 (from dash)\n",
      "  Downloading dash_table-5.0.0-py3-none-any.whl.metadata (2.4 kB)\n",
      "Collecting importlib-metadata (from dash)\n",
      "  Downloading importlib_metadata-7.1.0-py3-none-any.whl.metadata (4.7 kB)\n",
      "Requirement already satisfied: typing-extensions>=4.1.1 in d:\\ailabproject\\kerneld82\\.venv\\lib\\site-packages (from dash) (4.11.0)\n",
      "Requirement already satisfied: requests in d:\\ailabproject\\kerneld82\\.venv\\lib\\site-packages (from dash) (2.31.0)\n",
      "Collecting retrying (from dash)\n",
      "  Downloading retrying-1.3.4-py3-none-any.whl.metadata (6.9 kB)\n",
      "Requirement already satisfied: nest-asyncio in d:\\ailabproject\\kerneld82\\.venv\\lib\\site-packages (from dash) (1.6.0)\n",
      "Collecting setuptools (from dash)\n",
      "  Using cached setuptools-69.5.1-py3-none-any.whl.metadata (6.2 kB)\n",
      "Collecting Jinja2>=3.1.2 (from Flask<3.1,>=1.0.4->dash)\n",
      "  Downloading jinja2-3.1.4-py3-none-any.whl.metadata (2.6 kB)\n",
      "Collecting itsdangerous>=2.1.2 (from Flask<3.1,>=1.0.4->dash)\n",
      "  Downloading itsdangerous-2.2.0-py3-none-any.whl.metadata (1.9 kB)\n",
      "Collecting click>=8.1.3 (from Flask<3.1,>=1.0.4->dash)\n",
      "  Using cached click-8.1.7-py3-none-any.whl.metadata (3.0 kB)\n",
      "Collecting blinker>=1.6.2 (from Flask<3.1,>=1.0.4->dash)\n",
      "  Downloading blinker-1.8.2-py3-none-any.whl.metadata (1.6 kB)\n",
      "Collecting tenacity>=6.2.0 (from plotly>=5.0.0->dash)\n",
      "  Downloading tenacity-8.3.0-py3-none-any.whl.metadata (1.2 kB)\n",
      "Requirement already satisfied: packaging in d:\\ailabproject\\kerneld82\\.venv\\lib\\site-packages (from plotly>=5.0.0->dash) (24.0)\n",
      "Collecting MarkupSafe>=2.1.1 (from Werkzeug<3.1->dash)\n",
      "  Using cached MarkupSafe-2.1.5-cp312-cp312-win_amd64.whl.metadata (3.1 kB)\n",
      "Collecting zipp>=0.5 (from importlib-metadata->dash)\n",
      "  Downloading zipp-3.18.1-py3-none-any.whl.metadata (3.5 kB)\n",
      "Requirement already satisfied: charset-normalizer<4,>=2 in d:\\ailabproject\\kerneld82\\.venv\\lib\\site-packages (from requests->dash) (3.3.2)\n",
      "Requirement already satisfied: idna<4,>=2.5 in d:\\ailabproject\\kerneld82\\.venv\\lib\\site-packages (from requests->dash) (3.7)\n",
      "Requirement already satisfied: urllib3<3,>=1.21.1 in d:\\ailabproject\\kerneld82\\.venv\\lib\\site-packages (from requests->dash) (2.2.1)\n",
      "Requirement already satisfied: certifi>=2017.4.17 in d:\\ailabproject\\kerneld82\\.venv\\lib\\site-packages (from requests->dash) (2024.2.2)\n",
      "Requirement already satisfied: six>=1.7.0 in d:\\ailabproject\\kerneld82\\.venv\\lib\\site-packages (from retrying->dash) (1.16.0)\n",
      "Requirement already satisfied: colorama in d:\\ailabproject\\kerneld82\\.venv\\lib\\site-packages (from click>=8.1.3->Flask<3.1,>=1.0.4->dash) (0.4.6)\n",
      "Downloading dash-2.17.0-py3-none-any.whl (7.5 MB)\n",
      "   ---------------------------------------- 0.0/7.5 MB ? eta -:--:--\n",
      "   -- ------------------------------------- 0.4/7.5 MB 12.9 MB/s eta 0:00:01\n",
      "   ---- ----------------------------------- 0.9/7.5 MB 11.8 MB/s eta 0:00:01\n",
      "   ------- -------------------------------- 1.5/7.5 MB 11.9 MB/s eta 0:00:01\n",
      "   ---------- ----------------------------- 2.0/7.5 MB 11.8 MB/s eta 0:00:01\n",
      "   ------------- -------------------------- 2.6/7.5 MB 11.7 MB/s eta 0:00:01\n",
      "   ---------------- ----------------------- 3.1/7.5 MB 11.7 MB/s eta 0:00:01\n",
      "   ------------------- -------------------- 3.7/7.5 MB 11.7 MB/s eta 0:00:01\n",
      "   ---------------------- ----------------- 4.2/7.5 MB 11.7 MB/s eta 0:00:01\n",
      "   ------------------------- -------------- 4.8/7.5 MB 11.8 MB/s eta 0:00:01\n",
      "   ---------------------------- ----------- 5.3/7.5 MB 11.7 MB/s eta 0:00:01\n",
      "   ------------------------------- -------- 5.9/7.5 MB 11.7 MB/s eta 0:00:01\n",
      "   ---------------------------------- ----- 6.4/7.5 MB 11.7 MB/s eta 0:00:01\n",
      "   ------------------------------------- -- 7.0/7.5 MB 11.7 MB/s eta 0:00:01\n",
      "   ---------------------------------------  7.5/7.5 MB 11.7 MB/s eta 0:00:01\n",
      "   ---------------------------------------- 7.5/7.5 MB 11.1 MB/s eta 0:00:00\n",
      "Downloading dash_core_components-2.0.0-py3-none-any.whl (3.8 kB)\n",
      "Downloading dash_html_components-2.0.0-py3-none-any.whl (4.1 kB)\n",
      "Downloading dash_table-5.0.0-py3-none-any.whl (3.9 kB)\n",
      "Downloading flask-3.0.3-py3-none-any.whl (101 kB)\n",
      "   ---------------------------------------- 0.0/101.7 kB ? eta -:--:--\n",
      "   ---------------------------------------- 101.7/101.7 kB 6.1 MB/s eta 0:00:00\n",
      "Downloading plotly-5.22.0-py3-none-any.whl (16.4 MB)\n",
      "   ---------------------------------------- 0.0/16.4 MB ? eta -:--:--\n",
      "   - -------------------------------------- 0.5/16.4 MB 10.9 MB/s eta 0:00:02\n",
      "   -- ------------------------------------- 1.0/16.4 MB 10.7 MB/s eta 0:00:02\n",
      "   --- ------------------------------------ 1.5/16.4 MB 10.8 MB/s eta 0:00:02\n",
      "   ----- ---------------------------------- 2.1/16.4 MB 11.0 MB/s eta 0:00:02\n",
      "   ------ --------------------------------- 2.6/16.4 MB 11.1 MB/s eta 0:00:02\n",
      "   ------- -------------------------------- 3.2/16.4 MB 11.2 MB/s eta 0:00:02\n",
      "   --------- ------------------------------ 3.7/16.4 MB 11.3 MB/s eta 0:00:02\n",
      "   ---------- ----------------------------- 4.2/16.4 MB 11.3 MB/s eta 0:00:02\n",
      "   ----------- ---------------------------- 4.8/16.4 MB 11.7 MB/s eta 0:00:01\n",
      "   ------------ --------------------------- 5.3/16.4 MB 11.7 MB/s eta 0:00:01\n",
      "   -------------- ------------------------- 5.9/16.4 MB 11.8 MB/s eta 0:00:01\n",
      "   --------------- ------------------------ 6.4/16.4 MB 11.7 MB/s eta 0:00:01\n",
      "   ---------------- ----------------------- 7.0/16.4 MB 11.7 MB/s eta 0:00:01\n",
      "   ------------------ --------------------- 7.5/16.4 MB 11.7 MB/s eta 0:00:01\n",
      "   ------------------- -------------------- 8.0/16.4 MB 11.7 MB/s eta 0:00:01\n",
      "   -------------------- ------------------- 8.6/16.4 MB 11.7 MB/s eta 0:00:01\n",
      "   ---------------------- ----------------- 9.1/16.4 MB 11.7 MB/s eta 0:00:01\n",
      "   ----------------------- ---------------- 9.7/16.4 MB 11.7 MB/s eta 0:00:01\n",
      "   ------------------------ --------------- 10.0/16.4 MB 11.6 MB/s eta 0:00:01\n",
      "   -------------------------- ------------- 10.8/16.4 MB 11.7 MB/s eta 0:00:01\n",
      "   --------------------------- ------------ 11.3/16.4 MB 11.7 MB/s eta 0:00:01\n",
      "   ---------------------------- ----------- 11.9/16.4 MB 11.7 MB/s eta 0:00:01\n",
      "   ------------------------------ --------- 12.4/16.4 MB 11.7 MB/s eta 0:00:01\n",
      "   ------------------------------- -------- 13.0/16.4 MB 11.7 MB/s eta 0:00:01\n",
      "   -------------------------------- ------- 13.5/16.4 MB 11.7 MB/s eta 0:00:01\n",
      "   ---------------------------------- ----- 14.1/16.4 MB 11.7 MB/s eta 0:00:01\n",
      "   ----------------------------------- ---- 14.6/16.4 MB 11.7 MB/s eta 0:00:01\n",
      "   ------------------------------------ --- 15.2/16.4 MB 11.7 MB/s eta 0:00:01\n",
      "   -------------------------------------- - 15.7/16.4 MB 11.7 MB/s eta 0:00:01\n",
      "   ---------------------------------------  16.3/16.4 MB 11.7 MB/s eta 0:00:01\n",
      "   ---------------------------------------  16.4/16.4 MB 11.7 MB/s eta 0:00:01\n",
      "   ---------------------------------------- 16.4/16.4 MB 11.1 MB/s eta 0:00:00\n",
      "Downloading werkzeug-3.0.3-py3-none-any.whl (227 kB)\n",
      "   ---------------------------------------- 0.0/227.3 kB ? eta -:--:--\n",
      "   --------------------------------------- 227.3/227.3 kB 14.5 MB/s eta 0:00:00\n",
      "Downloading importlib_metadata-7.1.0-py3-none-any.whl (24 kB)\n",
      "Downloading retrying-1.3.4-py3-none-any.whl (11 kB)\n",
      "Using cached setuptools-69.5.1-py3-none-any.whl (894 kB)\n",
      "Downloading blinker-1.8.2-py3-none-any.whl (9.5 kB)\n",
      "Using cached click-8.1.7-py3-none-any.whl (97 kB)\n",
      "Downloading itsdangerous-2.2.0-py3-none-any.whl (16 kB)\n",
      "Downloading jinja2-3.1.4-py3-none-any.whl (133 kB)\n",
      "   ---------------------------------------- 0.0/133.3 kB ? eta -:--:--\n",
      "   ---------------------------------------- 133.3/133.3 kB 7.7 MB/s eta 0:00:00\n",
      "Using cached MarkupSafe-2.1.5-cp312-cp312-win_amd64.whl (17 kB)\n",
      "Downloading tenacity-8.3.0-py3-none-any.whl (25 kB)\n",
      "Downloading zipp-3.18.1-py3-none-any.whl (8.2 kB)\n",
      "Installing collected packages: dash-table, dash-html-components, dash-core-components, zipp, tenacity, setuptools, retrying, MarkupSafe, itsdangerous, click, blinker, Werkzeug, plotly, Jinja2, importlib-metadata, Flask, dash\n",
      "Successfully installed Flask-3.0.3 Jinja2-3.1.4 MarkupSafe-2.1.5 Werkzeug-3.0.3 blinker-1.8.2 click-8.1.7 dash-2.17.0 dash-core-components-2.0.0 dash-html-components-2.0.0 dash-table-5.0.0 importlib-metadata-7.1.0 itsdangerous-2.2.0 plotly-5.22.0 retrying-1.3.4 setuptools-69.5.1 tenacity-8.3.0 zipp-3.18.1\n",
      "Note: you may need to restart the kernel to use updated packages.\n"
     ]
    }
   ],
   "source": [
    "%pip install dash"
   ]
  },
  {
   "cell_type": "code",
   "execution_count": 2,
   "metadata": {},
   "outputs": [
    {
     "name": "stdout",
     "output_type": "stream",
     "text": [
      "Collecting dash-bootstrap-componentsNote: you may need to restart the kernel to use updated packages.\n",
      "\n",
      "  Downloading dash_bootstrap_components-1.6.0-py3-none-any.whl.metadata (5.2 kB)\n",
      "Requirement already satisfied: dash>=2.0.0 in d:\\ailabproject\\kerneld82\\.venv\\lib\\site-packages (from dash-bootstrap-components) (2.17.0)\n",
      "Requirement already satisfied: Flask<3.1,>=1.0.4 in d:\\ailabproject\\kerneld82\\.venv\\lib\\site-packages (from dash>=2.0.0->dash-bootstrap-components) (3.0.3)\n",
      "Requirement already satisfied: Werkzeug<3.1 in d:\\ailabproject\\kerneld82\\.venv\\lib\\site-packages (from dash>=2.0.0->dash-bootstrap-components) (3.0.3)\n",
      "Requirement already satisfied: plotly>=5.0.0 in d:\\ailabproject\\kerneld82\\.venv\\lib\\site-packages (from dash>=2.0.0->dash-bootstrap-components) (5.22.0)\n",
      "Requirement already satisfied: dash-html-components==2.0.0 in d:\\ailabproject\\kerneld82\\.venv\\lib\\site-packages (from dash>=2.0.0->dash-bootstrap-components) (2.0.0)\n",
      "Requirement already satisfied: dash-core-components==2.0.0 in d:\\ailabproject\\kerneld82\\.venv\\lib\\site-packages (from dash>=2.0.0->dash-bootstrap-components) (2.0.0)\n",
      "Requirement already satisfied: dash-table==5.0.0 in d:\\ailabproject\\kerneld82\\.venv\\lib\\site-packages (from dash>=2.0.0->dash-bootstrap-components) (5.0.0)\n",
      "Requirement already satisfied: importlib-metadata in d:\\ailabproject\\kerneld82\\.venv\\lib\\site-packages (from dash>=2.0.0->dash-bootstrap-components) (7.1.0)\n",
      "Requirement already satisfied: typing-extensions>=4.1.1 in d:\\ailabproject\\kerneld82\\.venv\\lib\\site-packages (from dash>=2.0.0->dash-bootstrap-components) (4.11.0)\n",
      "Requirement already satisfied: requests in d:\\ailabproject\\kerneld82\\.venv\\lib\\site-packages (from dash>=2.0.0->dash-bootstrap-components) (2.31.0)\n",
      "Requirement already satisfied: retrying in d:\\ailabproject\\kerneld82\\.venv\\lib\\site-packages (from dash>=2.0.0->dash-bootstrap-components) (1.3.4)\n",
      "Requirement already satisfied: nest-asyncio in d:\\ailabproject\\kerneld82\\.venv\\lib\\site-packages (from dash>=2.0.0->dash-bootstrap-components) (1.6.0)\n",
      "Requirement already satisfied: setuptools in d:\\ailabproject\\kerneld82\\.venv\\lib\\site-packages (from dash>=2.0.0->dash-bootstrap-components) (69.5.1)\n",
      "Requirement already satisfied: Jinja2>=3.1.2 in d:\\ailabproject\\kerneld82\\.venv\\lib\\site-packages (from Flask<3.1,>=1.0.4->dash>=2.0.0->dash-bootstrap-components) (3.1.4)\n",
      "Requirement already satisfied: itsdangerous>=2.1.2 in d:\\ailabproject\\kerneld82\\.venv\\lib\\site-packages (from Flask<3.1,>=1.0.4->dash>=2.0.0->dash-bootstrap-components) (2.2.0)\n",
      "Requirement already satisfied: click>=8.1.3 in d:\\ailabproject\\kerneld82\\.venv\\lib\\site-packages (from Flask<3.1,>=1.0.4->dash>=2.0.0->dash-bootstrap-components) (8.1.7)\n",
      "Requirement already satisfied: blinker>=1.6.2 in d:\\ailabproject\\kerneld82\\.venv\\lib\\site-packages (from Flask<3.1,>=1.0.4->dash>=2.0.0->dash-bootstrap-components) (1.8.2)\n",
      "Requirement already satisfied: tenacity>=6.2.0 in d:\\ailabproject\\kerneld82\\.venv\\lib\\site-packages (from plotly>=5.0.0->dash>=2.0.0->dash-bootstrap-components) (8.3.0)\n",
      "Requirement already satisfied: packaging in d:\\ailabproject\\kerneld82\\.venv\\lib\\site-packages (from plotly>=5.0.0->dash>=2.0.0->dash-bootstrap-components) (24.0)\n",
      "Requirement already satisfied: MarkupSafe>=2.1.1 in d:\\ailabproject\\kerneld82\\.venv\\lib\\site-packages (from Werkzeug<3.1->dash>=2.0.0->dash-bootstrap-components) (2.1.5)\n",
      "Requirement already satisfied: zipp>=0.5 in d:\\ailabproject\\kerneld82\\.venv\\lib\\site-packages (from importlib-metadata->dash>=2.0.0->dash-bootstrap-components) (3.18.1)\n",
      "Requirement already satisfied: charset-normalizer<4,>=2 in d:\\ailabproject\\kerneld82\\.venv\\lib\\site-packages (from requests->dash>=2.0.0->dash-bootstrap-components) (3.3.2)\n",
      "Requirement already satisfied: idna<4,>=2.5 in d:\\ailabproject\\kerneld82\\.venv\\lib\\site-packages (from requests->dash>=2.0.0->dash-bootstrap-components) (3.7)\n",
      "Requirement already satisfied: urllib3<3,>=1.21.1 in d:\\ailabproject\\kerneld82\\.venv\\lib\\site-packages (from requests->dash>=2.0.0->dash-bootstrap-components) (2.2.1)\n",
      "Requirement already satisfied: certifi>=2017.4.17 in d:\\ailabproject\\kerneld82\\.venv\\lib\\site-packages (from requests->dash>=2.0.0->dash-bootstrap-components) (2024.2.2)\n",
      "Requirement already satisfied: six>=1.7.0 in d:\\ailabproject\\kerneld82\\.venv\\lib\\site-packages (from retrying->dash>=2.0.0->dash-bootstrap-components) (1.16.0)\n",
      "Requirement already satisfied: colorama in d:\\ailabproject\\kerneld82\\.venv\\lib\\site-packages (from click>=8.1.3->Flask<3.1,>=1.0.4->dash>=2.0.0->dash-bootstrap-components) (0.4.6)\n",
      "Downloading dash_bootstrap_components-1.6.0-py3-none-any.whl (222 kB)\n",
      "   ---------------------------------------- 0.0/222.5 kB ? eta -:--:--\n",
      "   - -------------------------------------- 10.2/222.5 kB ? eta -:--:--\n",
      "   ---------- ---------------------------- 61.4/222.5 kB 825.8 kB/s eta 0:00:01\n",
      "   ---------------------------------------- 222.5/222.5 kB 2.7 MB/s eta 0:00:00\n",
      "Installing collected packages: dash-bootstrap-components\n",
      "Successfully installed dash-bootstrap-components-1.6.0\n"
     ]
    }
   ],
   "source": [
    "%pip install dash-bootstrap-components"
   ]
  },
  {
   "cell_type": "code",
   "execution_count": 3,
   "metadata": {},
   "outputs": [
    {
     "name": "stdout",
     "output_type": "stream",
     "text": [
      "Collecting dash-mantine-components\n",
      "  Downloading dash_mantine_components-0.14.3-py3-none-any.whl.metadata (3.5 kB)\n",
      "Downloading dash_mantine_components-0.14.3-py3-none-any.whl (1.4 MB)\n",
      "   ---------------------------------------- 0.0/1.4 MB ? eta -:--:--\n",
      "   ---------------------------------------- 0.0/1.4 MB ? eta -:--:--\n",
      "   - -------------------------------------- 0.0/1.4 MB 667.8 kB/s eta 0:00:03\n",
      "   ------------- -------------------------- 0.5/1.4 MB 4.2 MB/s eta 0:00:01\n",
      "   ----------------------------- ---------- 1.0/1.4 MB 6.6 MB/s eta 0:00:01\n",
      "   ---------------------------------------- 1.4/1.4 MB 7.4 MB/s eta 0:00:00\n",
      "Installing collected packages: dash-mantine-components\n",
      "Successfully installed dash-mantine-components-0.14.3\n",
      "Note: you may need to restart the kernel to use updated packages.\n"
     ]
    }
   ],
   "source": [
    "%pip install dash-mantine-components"
   ]
  }
 ],
 "metadata": {
  "kernelspec": {
   "display_name": ".venv",
   "language": "python",
   "name": "python3"
  },
  "language_info": {
   "codemirror_mode": {
    "name": "ipython",
    "version": 3
   },
   "file_extension": ".py",
   "mimetype": "text/x-python",
   "name": "python",
   "nbconvert_exporter": "python",
   "pygments_lexer": "ipython3",
   "version": "3.12.2"
  }
 },
 "nbformat": 4,
 "nbformat_minor": 2
}
